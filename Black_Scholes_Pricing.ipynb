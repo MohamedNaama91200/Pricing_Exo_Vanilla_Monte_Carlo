{
 "cells": [
  {
   "cell_type": "code",
   "execution_count": 39,
   "id": "421f8726",
   "metadata": {},
   "outputs": [],
   "source": [
    "import numpy as np\n",
    "import matplotlib.pyplot as plt\n",
    "from scipy.stats import norm\n",
    "import time\n"
   ]
  },
  {
   "cell_type": "markdown",
   "id": "94b512e3",
   "metadata": {},
   "source": [
    "# Pricing d'une option européenne vanille : Méthode analytique par Black-Scholes"
   ]
  },
  {
   "cell_type": "code",
   "execution_count": 46,
   "id": "e426a6d6",
   "metadata": {},
   "outputs": [],
   "source": [
    "#Initialisation des paramètres de la formule de Black Scholes :\n",
    "\n",
    "S = 100.0  # Option price\n",
    "K = 100.0  # Strike price\n",
    "r = 0.05   # Risk-free rate (5%)\n",
    "sigma = 0.2    # Volatility of the underlying (20%) cette valeur est la plus difficile à évaluer en pratique\n",
    "T = 1.0"
   ]
  },
  {
   "cell_type": "code",
   "execution_count": 47,
   "id": "d54e933a",
   "metadata": {},
   "outputs": [],
   "source": [
    "def density_gaussian(x) :\n",
    "    return norm.pdf(x,0,1)\n",
    "\n",
    "def repartition_gaussian(y) :\n",
    "    return norm.cdf(y)"
   ]
  },
  {
   "cell_type": "code",
   "execution_count": 48,
   "id": "23c5fa2a",
   "metadata": {},
   "outputs": [
    {
     "data": {
      "text/plain": [
       "1.0"
      ]
     },
     "execution_count": 48,
     "metadata": {},
     "output_type": "execute_result"
    }
   ],
   "source": [
    "repartition_gaussian(10)"
   ]
  },
  {
   "cell_type": "code",
   "execution_count": 49,
   "id": "7ce29f98",
   "metadata": {},
   "outputs": [],
   "source": [
    "#D'après la formule de Black-Scholes, il nous faut calculer d'abord les d1/d2\n",
    "\n",
    "def d1(S,K,r,sigma,T) :\n",
    "    return (np.log(S/K)+(r+(sigma**2)/2)*T)/sigma*T**(1/2)\n",
    "\n",
    "def d2(sigma,T) :\n",
    "    return d1(S,K,r,sigma,T)-sigma*T**(1/2)\n"
   ]
  },
  {
   "cell_type": "code",
   "execution_count": 50,
   "id": "786dc2cd",
   "metadata": {},
   "outputs": [
    {
     "data": {
      "text/plain": [
       "0.35000000000000003"
      ]
     },
     "execution_count": 50,
     "metadata": {},
     "output_type": "execute_result"
    }
   ],
   "source": [
    "d1(S,K,r,sigma,T)"
   ]
  },
  {
   "cell_type": "code",
   "execution_count": 51,
   "id": "2a0329db",
   "metadata": {},
   "outputs": [
    {
     "data": {
      "text/plain": [
       "0.15000000000000002"
      ]
     },
     "execution_count": 51,
     "metadata": {},
     "output_type": "execute_result"
    }
   ],
   "source": [
    "d2(sigma,T)"
   ]
  },
  {
   "cell_type": "code",
   "execution_count": 52,
   "id": "a95240b1",
   "metadata": {},
   "outputs": [],
   "source": [
    "#Passons maintenant au calcul du cull/put avec la formumule de Black-Scholes:\n",
    "\n",
    "def call_price(S,K,r,T,sigma) :\n",
    "    return S*repartition_gaussian(d1(S,K,r,sigma,T))-K*np.exp(-r*T)*repartition_gaussian(d2(sigma,T))\n",
    "\n",
    "def put_price(S,K,r,T,sigma) :\n",
    "    return -S*repartition_gaussian(-d1(S,K,r,sigma,T))+K*np.exp(-r*T)*repartition_gaussian(-d2(sigma,T))"
   ]
  },
  {
   "cell_type": "code",
   "execution_count": 54,
   "id": "f069beba",
   "metadata": {},
   "outputs": [
    {
     "name": "stdout",
     "output_type": "stream",
     "text": [
      "Prix du call d'après les paramètres :  10.450583572185565\n",
      "Prix du put d'après les paramètres : 5.573526022256971\n",
      "Temps d'execution : 0.0019931793212890625 seconds\n"
     ]
    }
   ],
   "source": [
    "start_time = time.time()\n",
    "\n",
    "print(\"Prix du call d'après les paramètres : \" + \" \" + str(call_price(S,K,r,T,sigma)) + \"\\n\" + \"Prix du put d'après les paramètres :\" + \" \" + str(put_price(S,K,r,T,sigma) ))\n",
    "print(\"Temps d'execution :\" + \" \" + \"%s seconds\" % (time.time() - start_time) )\n",
    "\n"
   ]
  },
  {
   "cell_type": "code",
   "execution_count": 45,
   "id": "542d4754",
   "metadata": {},
   "outputs": [
    {
     "name": "stderr",
     "output_type": "stream",
     "text": [
      "C:\\Users\\UTILIS~1\\AppData\\Local\\Temp/ipykernel_2276/2956566709.py:4: RuntimeWarning: divide by zero encountered in double_scalars\n",
      "  return (np.log(S/K)+(r+(sigma**2)/2)*T)/sigma*T**(1/2)\n"
     ]
    },
    {
     "data": {
      "image/png": "[encoded data removed]",
      "text/plain": [
       "<Figure size 432x288 with 1 Axes>"
      ]
     },
     "metadata": {
      "needs_background": "light"
     },
     "output_type": "display_data"
    }
   ],
   "source": [
    "V = np.linspace(0.0,1.0,num=50)\n",
    "call = []\n",
    "put = []\n",
    "for i in range(50) :\n",
    "    sigma = V[i]\n",
    "    call.append(call_price(S,K,r,T,sigma))\n",
    "    put.append(put_price(S,K,r,T,sigma))\n",
    "\n",
    "\n",
    "\n",
    "plt.plot(V, call, 'r--', label=\"Prix du Call estimé\")\n",
    "plt.plot(V, put, 'bo', markersize=3.5, label=\"Prix du Put estimé\")\n",
    "plt.legend()\n",
    "\n",
    "plt.title(\"Prix du call et du put estimés en fonction de la volatilité sigma \")\n",
    "\n",
    "\n",
    "\n",
    "\n",
    "plt.show()"
   ]
  },
  {
   "cell_type": "markdown",
   "id": "d80e1799",
   "metadata": {},
   "source": [
    "# Pricing d'une option européenne vanille : Méthode Monte Carlo"
   ]
  },
  {
   "cell_type": "code",
   "execution_count": null,
   "id": "69a1e7af",
   "metadata": {},
   "outputs": [],
   "source": []
  }
 ],
 "metadata": {
  "kernelspec": {
   "display_name": "Python 3 (ipykernel)",
   "language": "python",
   "name": "python3"
  },
  "language_info": {
   "codemirror_mode": {
    "name": "ipython",
    "version": 3
   },
   "file_extension": ".py",
   "mimetype": "text/x-python",
   "name": "python",
   "nbconvert_exporter": "python",
   "pygments_lexer": "ipython3",
   "version": "3.8.12"
  }
 },
 "nbformat": 4,
 "nbformat_minor": 5
}
